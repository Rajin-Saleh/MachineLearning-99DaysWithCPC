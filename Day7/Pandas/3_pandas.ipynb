{
 "cells": [
  {
   "cell_type": "code",
   "execution_count": null,
   "metadata": {},
   "outputs": [],
   "source": [
    "#99DaysWithCPC - Machine Learning\n",
    "\n",
    "# finding duplicate values with pandas"
   ]
  },
  {
   "cell_type": "code",
   "execution_count": 1,
   "metadata": {},
   "outputs": [
    {
     "name": "stdout",
     "output_type": "stream",
     "text": [
      "    EEID      name gender   salary\n",
      "0  EEP01    ayushi      F      NaN\n",
      "1  EEP02     rohit      M  25000.0\n",
      "2  EEP03  pranjali    Nan  27000.0\n",
      "3  EEP01    ayushi      F  20000.0\n",
      "4  EEP05       Nan      M  25000.0\n",
      "5  EEP06     rohit      M      NaN\n"
     ]
    }
   ],
   "source": [
    "import pandas as pd\n",
    "data = pd.read_csv(\"demo.csv\")\n",
    "print(data)\n"
   ]
  },
  {
   "cell_type": "code",
   "execution_count": 10,
   "metadata": {},
   "outputs": [
    {
     "name": "stdout",
     "output_type": "stream",
     "text": [
      "1\n"
     ]
    }
   ],
   "source": [
    "print(data[\"EEID\"].duplicated().sum())"
   ]
  },
  {
   "cell_type": "code",
   "execution_count": 14,
   "metadata": {},
   "outputs": [
    {
     "name": "stdout",
     "output_type": "stream",
     "text": [
      "    EEID      name gender   salary\n",
      "0  EEP01    ayushi      F      NaN\n",
      "1  EEP02     rohit      M  25000.0\n",
      "2  EEP03  pranjali    Nan  27000.0\n",
      "4  EEP05       Nan      M  25000.0\n"
     ]
    }
   ],
   "source": [
    "print(data.drop_duplicates(\"name\"))"
   ]
  }
 ],
 "metadata": {
  "kernelspec": {
   "display_name": ".venv",
   "language": "python",
   "name": "python3"
  },
  "language_info": {
   "codemirror_mode": {
    "name": "ipython",
    "version": 3
   },
   "file_extension": ".py",
   "mimetype": "text/x-python",
   "name": "python",
   "nbconvert_exporter": "python",
   "pygments_lexer": "ipython3",
   "version": "3.10.12"
  }
 },
 "nbformat": 4,
 "nbformat_minor": 2
}
